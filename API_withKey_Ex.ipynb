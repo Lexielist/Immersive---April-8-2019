{
 "cells": [
  {
   "cell_type": "code",
   "execution_count": 1,
   "metadata": {
    "collapsed": true
   },
   "outputs": [],
   "source": [
    "import requests\n",
    "import json\n",
    "import pandas as pd"
   ]
  },
  {
   "cell_type": "code",
   "execution_count": 2,
   "metadata": {
    "collapsed": true
   },
   "outputs": [],
   "source": [
    "with open('brewDB_key.txt', 'r') as file:\n",
    "    for line in file:\n",
    "        api_key = line"
   ]
  },
  {
   "cell_type": "code",
   "execution_count": 3,
   "metadata": {
    "collapsed": true
   },
   "outputs": [],
   "source": [
    "url = r\"https://sandbox-api.brewerydb.com/v2/beers/?key=\""
   ]
  },
  {
   "cell_type": "code",
   "execution_count": 4,
   "metadata": {
    "collapsed": true
   },
   "outputs": [],
   "source": [
    "response = requests.get(url+api_key)"
   ]
  },
  {
   "cell_type": "code",
   "execution_count": 6,
   "metadata": {},
   "outputs": [],
   "source": [
    "beerdata = response.json()"
   ]
  },
  {
   "cell_type": "code",
   "execution_count": 7,
   "metadata": {},
   "outputs": [
    {
     "data": {
      "text/plain": [
       "{'abv': '5.5',\n",
       " 'createDate': '2013-08-19 11:58:12',\n",
       " 'glass': {'createDate': '2012-01-03 02:41:33', 'id': 4, 'name': 'Pilsner'},\n",
       " 'glasswareId': 4,\n",
       " 'id': 'c4f2KE',\n",
       " 'isOrganic': 'N',\n",
       " 'isRetired': 'N',\n",
       " 'labels': {'contentAwareIcon': 'https://brewerydb-images.s3.amazonaws.com/beer/c4f2KE/upload_jjKJ7g-contentAwareIcon.png',\n",
       "  'contentAwareLarge': 'https://brewerydb-images.s3.amazonaws.com/beer/c4f2KE/upload_jjKJ7g-contentAwareLarge.png',\n",
       "  'contentAwareMedium': 'https://brewerydb-images.s3.amazonaws.com/beer/c4f2KE/upload_jjKJ7g-contentAwareMedium.png',\n",
       "  'icon': 'https://brewerydb-images.s3.amazonaws.com/beer/c4f2KE/upload_jjKJ7g-icon.png',\n",
       "  'large': 'https://brewerydb-images.s3.amazonaws.com/beer/c4f2KE/upload_jjKJ7g-large.png',\n",
       "  'medium': 'https://brewerydb-images.s3.amazonaws.com/beer/c4f2KE/upload_jjKJ7g-medium.png'},\n",
       " 'name': \"'Murican Pilsner\",\n",
       " 'nameDisplay': \"'Murican Pilsner\",\n",
       " 'status': 'verified',\n",
       " 'statusDisplay': 'Verified',\n",
       " 'style': {'abvMax': '6',\n",
       "  'abvMin': '5',\n",
       "  'category': {'createDate': '2012-03-21 20:06:46',\n",
       "   'id': 8,\n",
       "   'name': 'North American Lager'},\n",
       "  'categoryId': 8,\n",
       "  'createDate': '2012-03-21 20:06:46',\n",
       "  'description': 'This classic and unique pre-Prohibition American-style Pilsener is straw to deep gold in color. Hop bitterness, flavor and aroma are medium to high, and use of noble-type hops for flavor and aroma is preferred. Up to 25 percent corn and/or rice in the grist should be used. Malt flavor and aroma are medium. This is a light-medium to medium-bodied beer. Sweet corn-like dimethylsulfide (DMS), fruity esters and American hop-derived citrus flavors or aromas should not be perceived. Diacetyl is not acceptable. There should be no chill haze. Competition organizers may wish to subcategorize this style into rice and corn subcategories.',\n",
       "  'fgMax': '1.018',\n",
       "  'fgMin': '1.012',\n",
       "  'ibuMax': '40',\n",
       "  'ibuMin': '25',\n",
       "  'id': 98,\n",
       "  'name': 'American-Style Pilsener',\n",
       "  'ogMin': '1.045',\n",
       "  'shortName': 'American Pilsener',\n",
       "  'srmMax': '6',\n",
       "  'srmMin': '3',\n",
       "  'updateDate': '2015-04-07 15:40:08'},\n",
       " 'styleId': 98,\n",
       " 'updateDate': '2018-11-02 02:15:14'}"
      ]
     },
     "execution_count": 7,
     "metadata": {},
     "output_type": "execute_result"
    }
   ],
   "source": [
    "beerdata['data'][0]"
   ]
  },
  {
   "cell_type": "code",
   "execution_count": 10,
   "metadata": {
    "collapsed": true
   },
   "outputs": [],
   "source": [
    "beers = beerdata['data']"
   ]
  },
  {
   "cell_type": "code",
   "execution_count": 11,
   "metadata": {
    "collapsed": true
   },
   "outputs": [],
   "source": [
    "#create empty lists to extract data\n",
    "\n",
    "idls = [] \n",
    "namels = [] \n",
    "yearOfEstls = [] \n",
    "statusls = [] \n",
    "inBusinessls = [] \n",
    "massOwnls = [] \n",
    "organicls = [] \n",
    "websitels = [] \n",
    "descls = [] \n"
   ]
  },
  {
   "cell_type": "code",
   "execution_count": 12,
   "metadata": {},
   "outputs": [],
   "source": [
    "for beer in beers:\n",
    "        \n",
    "    #get the value of each key and if the key doesn't exist, set a variable to be None\n",
    "    try: bid = beer['idls']\n",
    "    except: bid = None\n",
    "            \n",
    "    try: name = beer['namels']\n",
    "    except: name = None\n",
    "            \n",
    "    try: Exist = beer['inBusinessls']\n",
    "    except: Exist = None\n",
    "            \n",
    "    try: mass = beer['massOwnls']\n",
    "    except: mass = None\n",
    "            \n",
    "   \n",
    "    try: organic = beer['organicls']\n",
    "    except: organic = None\n",
    "            \n",
    "    try: Web = beer['websitels']\n",
    "    except: Web = None\n",
    "            \n",
    "    try: description = beer['descls']\n",
    "    except: description = None\n",
    "            \n",
    "  \n",
    "        \n",
    "    idls.append(bid)\n",
    "    namels.append(name)\n",
    "    inBusinessls.append(Exist)\n",
    "    massOwnls.append(mass)\n",
    "    organicls.append(organic)\n",
    "    websitels.append(Web)\n",
    "    descls.append(description)\n",
    "    "
   ]
  },
  {
   "cell_type": "code",
   "execution_count": 13,
   "metadata": {
    "collapsed": true
   },
   "outputs": [],
   "source": [
    "beerList = list(zip(idls, namels, inBusinessls, \n",
    "                    massOwnls, organicls, websitels, descls))\n",
    "\n",
    "#names for columns in data frame\n",
    "colnames = ['id', 'Name', 'In_Business', 'Ownership', 'Organic', 'Website', \n",
    "            'Description']"
   ]
  },
  {
   "cell_type": "code",
   "execution_count": 14,
   "metadata": {},
   "outputs": [
    {
     "data": {
      "text/html": [
       "<div>\n",
       "<style>\n",
       "    .dataframe thead tr:only-child th {\n",
       "        text-align: right;\n",
       "    }\n",
       "\n",
       "    .dataframe thead th {\n",
       "        text-align: left;\n",
       "    }\n",
       "\n",
       "    .dataframe tbody tr th {\n",
       "        vertical-align: top;\n",
       "    }\n",
       "</style>\n",
       "<table border=\"1\" class=\"dataframe\">\n",
       "  <thead>\n",
       "    <tr style=\"text-align: right;\">\n",
       "      <th></th>\n",
       "      <th>id</th>\n",
       "      <th>Name</th>\n",
       "      <th>In_Business</th>\n",
       "      <th>Ownership</th>\n",
       "      <th>Organic</th>\n",
       "      <th>Website</th>\n",
       "      <th>Description</th>\n",
       "    </tr>\n",
       "  </thead>\n",
       "  <tbody>\n",
       "    <tr>\n",
       "      <th>0</th>\n",
       "      <td>None</td>\n",
       "      <td>None</td>\n",
       "      <td>None</td>\n",
       "      <td>None</td>\n",
       "      <td>None</td>\n",
       "      <td>None</td>\n",
       "      <td>None</td>\n",
       "    </tr>\n",
       "    <tr>\n",
       "      <th>1</th>\n",
       "      <td>None</td>\n",
       "      <td>None</td>\n",
       "      <td>None</td>\n",
       "      <td>None</td>\n",
       "      <td>None</td>\n",
       "      <td>None</td>\n",
       "      <td>None</td>\n",
       "    </tr>\n",
       "    <tr>\n",
       "      <th>2</th>\n",
       "      <td>None</td>\n",
       "      <td>None</td>\n",
       "      <td>None</td>\n",
       "      <td>None</td>\n",
       "      <td>None</td>\n",
       "      <td>None</td>\n",
       "      <td>None</td>\n",
       "    </tr>\n",
       "    <tr>\n",
       "      <th>3</th>\n",
       "      <td>None</td>\n",
       "      <td>None</td>\n",
       "      <td>None</td>\n",
       "      <td>None</td>\n",
       "      <td>None</td>\n",
       "      <td>None</td>\n",
       "      <td>None</td>\n",
       "    </tr>\n",
       "    <tr>\n",
       "      <th>4</th>\n",
       "      <td>None</td>\n",
       "      <td>None</td>\n",
       "      <td>None</td>\n",
       "      <td>None</td>\n",
       "      <td>None</td>\n",
       "      <td>None</td>\n",
       "      <td>None</td>\n",
       "    </tr>\n",
       "    <tr>\n",
       "      <th>5</th>\n",
       "      <td>None</td>\n",
       "      <td>None</td>\n",
       "      <td>None</td>\n",
       "      <td>None</td>\n",
       "      <td>None</td>\n",
       "      <td>None</td>\n",
       "      <td>None</td>\n",
       "    </tr>\n",
       "    <tr>\n",
       "      <th>6</th>\n",
       "      <td>None</td>\n",
       "      <td>None</td>\n",
       "      <td>None</td>\n",
       "      <td>None</td>\n",
       "      <td>None</td>\n",
       "      <td>None</td>\n",
       "      <td>None</td>\n",
       "    </tr>\n",
       "    <tr>\n",
       "      <th>7</th>\n",
       "      <td>None</td>\n",
       "      <td>None</td>\n",
       "      <td>None</td>\n",
       "      <td>None</td>\n",
       "      <td>None</td>\n",
       "      <td>None</td>\n",
       "      <td>None</td>\n",
       "    </tr>\n",
       "    <tr>\n",
       "      <th>8</th>\n",
       "      <td>None</td>\n",
       "      <td>None</td>\n",
       "      <td>None</td>\n",
       "      <td>None</td>\n",
       "      <td>None</td>\n",
       "      <td>None</td>\n",
       "      <td>None</td>\n",
       "    </tr>\n",
       "    <tr>\n",
       "      <th>9</th>\n",
       "      <td>None</td>\n",
       "      <td>None</td>\n",
       "      <td>None</td>\n",
       "      <td>None</td>\n",
       "      <td>None</td>\n",
       "      <td>None</td>\n",
       "      <td>None</td>\n",
       "    </tr>\n",
       "  </tbody>\n",
       "</table>\n",
       "</div>"
      ],
      "text/plain": [
       "     id  Name In_Business Ownership Organic Website Description\n",
       "0  None  None        None      None    None    None        None\n",
       "1  None  None        None      None    None    None        None\n",
       "2  None  None        None      None    None    None        None\n",
       "3  None  None        None      None    None    None        None\n",
       "4  None  None        None      None    None    None        None\n",
       "5  None  None        None      None    None    None        None\n",
       "6  None  None        None      None    None    None        None\n",
       "7  None  None        None      None    None    None        None\n",
       "8  None  None        None      None    None    None        None\n",
       "9  None  None        None      None    None    None        None"
      ]
     },
     "execution_count": 14,
     "metadata": {},
     "output_type": "execute_result"
    }
   ],
   "source": [
    "df = pd.DataFrame(beerList, columns=colnames)\n",
    "\n",
    "df.head(10)"
   ]
  },
  {
   "cell_type": "code",
   "execution_count": null,
   "metadata": {
    "collapsed": true
   },
   "outputs": [],
   "source": []
  }
 ],
 "metadata": {
  "kernelspec": {
   "display_name": "Python 3",
   "language": "python",
   "name": "python3"
  },
  "language_info": {
   "codemirror_mode": {
    "name": "ipython",
    "version": 3
   },
   "file_extension": ".py",
   "mimetype": "text/x-python",
   "name": "python",
   "nbconvert_exporter": "python",
   "pygments_lexer": "ipython3",
   "version": "3.6.3"
  }
 },
 "nbformat": 4,
 "nbformat_minor": 2
}
